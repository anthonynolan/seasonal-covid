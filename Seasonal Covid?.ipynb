{
 "cells": [
  {
   "cell_type": "markdown",
   "metadata": {},
   "source": [
    "## HIQA data"
   ]
  },
  {
   "cell_type": "markdown",
   "metadata": {},
   "source": [
    "I want to see if there is a seasonal component to Covid-19. Using data from HIQA - the Health Information Quality Authority of Ireland I wanted to plot European countries by lattitude and the week of their peak covid deaths.\n",
    "\n",
    "The data comes from a table in this report from HIQA https://www.hiqa.ie/reports-and-publications/health-technology-assessment/analysis-excess-all-cause-mortality-ireland"
   ]
  },
  {
   "cell_type": "code",
   "execution_count": 21,
   "metadata": {},
   "outputs": [
    {
     "data": {
      "text/plain": [
       "-25.416666666666668"
      ]
     },
     "execution_count": 21,
     "metadata": {},
     "output_type": "execute_result"
    }
   ],
   "source": [
    "import re\n",
    "import matplotlib.pyplot as plt\n",
    "from pandas.plotting import register_matplotlib_converters\n",
    "from scipy.stats import spearmanr\n",
    "import pandas as pd\n",
    "import numpy as np\n",
    "import plotly.graph_objects as go\n",
    "import math\n",
    "\n",
    "def str_to_lat(s):\n",
    "    '''Given a geographical coordinate in the format used in the report return a decimal latitude figure.'''\n",
    "    match = re.match('([0-9]*)°([0-9]*)\\'([NS])', s)\n",
    "    sign = 1\n",
    "    if match[3]=='S': sign=-1\n",
    "    return sign*(int(match[1])+int(match[1])/60)\n",
    "\n",
    "# test the function\n",
    "str_to_lat('25°05\\'S')"
   ]
  },
  {
   "cell_type": "code",
   "execution_count": 22,
   "metadata": {},
   "outputs": [],
   "source": [
    "# The HIQA data was saved as rates.txt\n",
    "\n",
    "with open('rates.txt') as f:\n",
    "    lines = f.readlines()\n",
    "\n",
    "data = {}\n",
    "for line in lines:\n",
    "    val = line.split(' ')\n",
    "    data[val[0]] = {'peak_week': int(val[-1].strip()), 'lat': None}\n",
    "\n",
    "# latitude and longitude of all countries downloaded from web search\n",
    "with open('lat_lon.txt') as f:\n",
    "    lines = f.readlines()\n",
    "    \n",
    "for line in lines:\n",
    "    val = line.split('\\t')\n",
    "    country = val[0]\n",
    "    lat = str_to_lat(val[2])\n",
    "    if country in data.keys():\n",
    "        data[val[0]]['lat'] = lat\n",
    "\n",
    "# A few of the data points in the HIQA reports had names that did not match the country names for which we had lats and longs.\n",
    "# Manually put a couple of these in the data.\n",
    "data['Northern']['lat'] = 54.6\n",
    "data['England']['lat'] = 51.5\n",
    "\n",
    "temp_dict = {}\n",
    "for country in data.keys():\n",
    "    if data[country]['lat'] is not None:\n",
    "        temp_dict[country] = data[country]\n",
    "data = temp_dict"
   ]
  },
  {
   "cell_type": "markdown",
   "metadata": {},
   "source": [
    "Scatter plot of the week when covid deaths peaked against latitude of each country. There seems to be a reasonable correlation, albeit it from a limited dataset."
   ]
  },
  {
   "cell_type": "code",
   "execution_count": 23,
   "metadata": {},
   "outputs": [
    {
     "data": {
      "text/plain": [
       "{'Greece': {'peak_week': 11, 'lat': 37.61666666666667},\n",
       " 'Hungary': {'peak_week': 12, 'lat': 47.78333333333333},\n",
       " 'Malta': {'peak_week': 12, 'lat': 35.583333333333336},\n",
       " 'Denmark': {'peak_week': 14, 'lat': 55.916666666666664},\n",
       " 'Austria': {'peak_week': 14, 'lat': 48.8},\n",
       " 'Switzerland': {'peak_week': 14, 'lat': 46.766666666666666},\n",
       " 'Portugal': {'peak_week': 14, 'lat': 38.63333333333333},\n",
       " 'France': {'peak_week': 14, 'lat': 48.8},\n",
       " 'Italy': {'peak_week': 14, 'lat': 41.68333333333333},\n",
       " 'Netherlands': {'peak_week': 14, 'lat': 52.86666666666667},\n",
       " 'Spain': {'peak_week': 14, 'lat': 40.666666666666664},\n",
       " 'Germany': {'peak_week': 15, 'lat': 52.86666666666667},\n",
       " 'Finland': {'peak_week': 15, 'lat': 61.0},\n",
       " 'Luxembourg': {'peak_week': 15, 'lat': 49.81666666666667},\n",
       " 'Ireland': {'peak_week': 15, 'lat': 53.88333333333333},\n",
       " 'Northern': {'peak_week': 15, 'lat': 54.6},\n",
       " 'Sweden': {'peak_week': 15, 'lat': 59.983333333333334},\n",
       " 'Belgium': {'peak_week': 15, 'lat': 50.833333333333336},\n",
       " 'England': {'peak_week': 15, 'lat': 51.5},\n",
       " 'Estonia': {'peak_week': 22, 'lat': 59.983333333333334},\n",
       " 'Norway': {'peak_week': 23, 'lat': 59.983333333333334}}"
      ]
     },
     "execution_count": 23,
     "metadata": {},
     "output_type": "execute_result"
    },
    {
     "data": {
      "image/png": "[encoded data removed]",
      "text/plain": [
       "<Figure size 1152x432 with 1 Axes>"
      ]
     },
     "metadata": {
      "needs_background": "light"
     },
     "output_type": "display_data"
    }
   ],
   "source": [
    "fig, ax = plt.subplots(1, figsize=(16,6))\n",
    "x = [pair['peak_week'] for pair in data.values()]\n",
    "y = [pair['lat'] for pair in data.values()]\n",
    "_ = ax.scatter(x, y)\n",
    "\n",
    "{k: v for k, v in sorted(data.items(), key=lambda item: item[1]['peak_week'])}"
   ]
  },
  {
   "cell_type": "markdown",
   "metadata": {},
   "source": [
    "## Global data"
   ]
  },
  {
   "cell_type": "markdown",
   "metadata": {},
   "source": [
    "Repeat the above analysis for global Covid data from WHO. Will also include population of countries from the World Bank as dot size in the scatter here."
   ]
  },
  {
   "cell_type": "markdown",
   "metadata": {},
   "source": [
    "### World bank population data"
   ]
  },
  {
   "cell_type": "code",
   "execution_count": 24,
   "metadata": {},
   "outputs": [],
   "source": [
    "pop = pd.read_csv('API_SP.POP.TOTL_DS2_en_csv_v2_1308146.csv', skiprows=4)\n",
    "pop = pop[['Country Name', '2019']].set_index('Country Name').to_dict()['2019']\n",
    "\n",
    "\n",
    "def lookup_pop(country):\n",
    "    '''Convert raw country population numbers into reasonable pixel sizes for scatter plot bubbles'''\n",
    "    if country in pop.keys() and not math.isnan(pop[country]): \n",
    "        raw_pop = pop[country] \n",
    "        if raw_pop<1e6: return 5\n",
    "        if raw_pop<1e7: return 20\n",
    "        if raw_pop<1e8: return 40\n",
    "        if raw_pop<1e9: return 80\n",
    "        return 120\n",
    "    else: \n",
    "        return 0"
   ]
  },
  {
   "cell_type": "markdown",
   "metadata": {},
   "source": [
    "### WHO Covid data"
   ]
  },
  {
   "cell_type": "markdown",
   "metadata": {},
   "source": [
    "Read in the data and plot time series for selected countries. Add more countries to the list to show comparisons."
   ]
  },
  {
   "cell_type": "code",
   "execution_count": 25,
   "metadata": {},
   "outputs": [
    {
     "data": {
      "image/png": "[encoded data removed]",
      "text/plain": [
       "<Figure size 1152x576 with 1 Axes>"
      ]
     },
     "metadata": {
      "needs_background": "light"
     },
     "output_type": "display_data"
    }
   ],
   "source": [
    "# This data was downloaded from this page https://covid19.who.int/table\n",
    "register_matplotlib_converters()\n",
    "who = pd.read_csv('WHO-COVID-19-global-data.csv', parse_dates=['Date_reported'], infer_datetime_format=True)\n",
    "who.columns = [a.strip() for a in who.columns.values]\n",
    "who.sort_values('Date_reported', inplace=True)\n",
    "countries = ['Ireland', 'Italy']\n",
    "fig, ax = plt.subplots(1, figsize=(16,8))\n",
    "for country in countries:\n",
    "    dat = who[who['Country']==country]\n",
    "    ax.plot(dat['Date_reported'], dat['New_deaths'], label=country)\n",
    "    \n",
    "plt.xticks(rotation=45)\n",
    "plt.grid(True)\n",
    "plt.legend()\n",
    "\n",
    "new_deaths_by_country = {}\n",
    "for country in who['Country'].unique():\n",
    "    dat = who[who['Country']==country]\n",
    "    row = dat.loc[dat['New_deaths'].idxmax()]\n",
    "    new_deaths_by_country[country] = {'peak_date': row['Date_reported'], 'lat': None}"
   ]
  },
  {
   "cell_type": "code",
   "execution_count": 26,
   "metadata": {},
   "outputs": [
    {
     "data": {
      "application/vnd.plotly.v1+json": {
       "config": {
        "plotlyServerURL": "https://plot.ly"
       },
       "data": [
        {
         "marker": {
          "size": [
           120,
           40,
           0,
           0,
           40,
           40,
           0,
           40,
           40,
           40,
           40,
           40,
           20,
           40,
           20,
           120,
           80,
           40,
           80,
           40,
           40,
           0,
           0,
           20,
           20,
           20,
           20,
           40,
           20,
           20,
           40,
           40,
           20,
           80,
           40,
           20,
           20,
           80,
           20,
           20,
           20,
           40,
           80,
           80,
           20,
           40,
           5,
           20,
           40,
           20,
           40,
           20,
           5,
           20,
           5,
           20,
           40,
           40,
           40,
           40,
           40,
           20,
           80,
           5,
           40,
           40,
           40,
           40,
           20,
           5,
           20,
           40,
           20,
           5,
           5,
           40,
           40,
           0,
           5,
           5,
           0,
           40,
           0,
           20,
           20,
           20,
           20,
           80,
           20,
           0,
           20,
           20,
           20,
           5,
           40,
           40,
           0,
           20,
           5,
           40,
           5,
           5,
           5,
           40,
           80,
           20,
           20,
           40,
           0,
           40,
           20,
           20,
           40,
           20,
           20,
           0,
           40,
           0,
           20,
           40,
           0,
           5,
           40,
           40,
           20,
           5,
           0,
           0,
           40,
           5,
           5,
           40,
           0,
           0,
           5,
           5,
           40,
           20,
           40,
           5,
           20,
           40,
           20,
           40,
           40,
           40,
           40,
           0,
           40,
           40,
           0,
           5,
           40,
           5,
           0,
           20,
           5,
           40,
           20,
           20,
           40,
           40,
           0,
           5,
           0,
           20,
           20
          ]
         },
         "mode": "markers",
         "text": [
          "China",
          "Thailand",
          "Republic of Korea",
          "United States of America",
          "Nepal",
          "France",
          "Viet Nam",
          "Australia",
          "Malaysia",
          "Canada",
          "Cambodia",
          "Germany",
          "Finland",
          "Italy",
          "United Arab Emirates",
          "India",
          "Philippines",
          "Sweden",
          "Russian Federation",
          "Spain",
          "Belgium",
          "Egypt",
          "Iran (Islamic Republic of)",
          "Lebanon",
          "Israel",
          "Kuwait",
          "Switzerland",
          "Iraq",
          "Bahrain",
          "Oman",
          "Afghanistan",
          "Algeria",
          "Norway",
          "Brazil",
          "Romania",
          "Georgia",
          "Croatia",
          "Pakistan",
          "Austria",
          "Estonia",
          "Denmark",
          "Greece",
          "Nigeria",
          "Mexico",
          "New Zealand",
          "Netherlands",
          "San Marino",
          "Lithuania",
          "Azerbaijan",
          "Belarus",
          "Ecuador",
          "Qatar",
          "Luxembourg",
          "Ireland",
          "Iceland",
          "Armenia",
          "Tunisia",
          "Saudi Arabia",
          "Jordan",
          "Portugal",
          "Senegal",
          "Latvia",
          "Indonesia",
          "Andorra",
          "Chile",
          "Ukraine",
          "Argentina",
          "Poland",
          "Slovenia",
          "Liechtenstein",
          "Hungary",
          "South Africa",
          "Bosnia and Herzegovina",
          "Bhutan",
          "Faroe Islands",
          "Colombia",
          "Cameroon",
          "Slovakia",
          "Maldives",
          "Malta",
          "Martinique",
          "Peru",
          "French Guiana",
          "Togo",
          "Paraguay",
          "Costa Rica",
          "Bulgaria",
          "Bangladesh",
          "Albania",
          "Guernsey",
          "Cyprus",
          "Jamaica",
          "Panama",
          "Brunei Darussalam",
          "Burkina Faso",
          "Turkey",
          "Democratic Republic of the Congo",
          "Honduras",
          "French Polynesia",
          "Kazakhstan",
          "Cayman Islands",
          "Antigua and Barbuda",
          "Guyana",
          "Cuba",
          "Ethiopia",
          "Central African Republic",
          "Equatorial Guinea",
          "Guinea",
          "Guadeloupe",
          "Kenya",
          "Puerto Rico",
          "Mauritania",
          "Ghana",
          "Namibia",
          "Gabon",
          "Mayotte",
          "Sudan",
          "Congo",
          "Uruguay",
          "Guatemala",
          "Saint Lucia",
          "Suriname",
          "Uzbekistan",
          "Somalia",
          "Liberia",
          "Aruba",
          "Bahamas",
          "United Republic of Tanzania",
          "Benin",
          "Greenland",
          "Barbados",
          "Zambia",
          "Gambia",
          "Kyrgyzstan",
          "Djibouti",
          "Fiji",
          "Niger",
          "Nicaragua",
          "Chad",
          "New Caledonia",
          "El Salvador",
          "Haiti",
          "Papua New Guinea",
          "Zimbabwe",
          "Angola",
          "Madagascar",
          "Uganda",
          "Eritrea",
          "Mozambique",
          "Syrian Arab Republic",
          "Lao People's Democratic Republic",
          "Dominica",
          "Myanmar",
          "Belize",
          "Saint Kitts and Nevis",
          "Guinea-Bissau",
          "British Virgin Islands",
          "Mali",
          "Botswana",
          "Sierra Leone",
          "Burundi",
          "Malawi",
          "Falkland Islands (Malvinas)",
          "Sao Tome and Principe",
          "Saint Pierre and Miquelon",
          "Tajikistan",
          "Lesotho"
         ],
         "type": "scatter",
         "x": [
          "2020-04-17T00:00:00",
          "2020-04-03T00:00:00",
          "2020-03-19T00:00:00",
          "2020-04-17T00:00:00",
          "2020-08-22T00:00:00",
          "2020-04-04T00:00:00",
          "2020-08-03T00:00:00",
          "2020-08-18T00:00:00",
          "2020-03-30T00:00:00",
          "2020-05-04T00:00:00",
          "2020-01-27T00:00:00",
          "2020-04-16T00:00:00",
          "2020-04-22T00:00:00",
          "2020-03-28T00:00:00",
          "2020-05-10T00:00:00",
          "2020-06-17T00:00:00",
          "2020-07-13T00:00:00",
          "2020-04-22T00:00:00",
          "2020-05-29T00:00:00",
          "2020-03-30T00:00:00",
          "2020-04-13T00:00:00",
          "2020-06-16T00:00:00",
          "2020-07-29T00:00:00",
          "2020-08-12T00:00:00",
          "2020-08-24T00:00:00",
          "2020-05-16T00:00:00",
          "2020-04-02T00:00:00",
          "2020-06-27T00:00:00",
          "2020-06-19T00:00:00",
          "2020-08-06T00:00:00",
          "2020-07-15T00:00:00",
          "2020-04-07T00:00:00",
          "2020-04-15T00:00:00",
          "2020-07-31T00:00:00",
          "2020-08-14T00:00:00",
          "2020-05-02T00:00:00",
          "2020-04-20T00:00:00",
          "2020-06-20T00:00:00",
          "2020-04-23T00:00:00",
          "2020-04-03T00:00:00",
          "2020-04-05T00:00:00",
          "2020-04-05T00:00:00",
          "2020-06-18T00:00:00",
          "2020-06-05T00:00:00",
          "2020-04-14T00:00:00",
          "2020-04-08T00:00:00",
          "2020-03-21T00:00:00",
          "2020-04-12T00:00:00",
          "2020-07-22T00:00:00",
          "2020-05-13T00:00:00",
          "2020-05-11T00:00:00",
          "2020-06-20T00:00:00",
          "2020-04-12T00:00:00",
          "2020-04-26T00:00:00",
          "2020-04-03T00:00:00",
          "2020-06-02T00:00:00",
          "2020-04-03T00:00:00",
          "2020-07-06T00:00:00",
          "2020-08-04T00:00:00",
          "2020-05-04T00:00:00",
          "2020-06-17T00:00:00",
          "2020-04-22T00:00:00",
          "2020-08-24T00:00:00",
          "2020-03-31T00:00:00",
          "2020-07-18T00:00:00",
          "2020-08-20T00:00:00",
          "2020-08-13T00:00:00",
          "2020-04-25T00:00:00",
          "2020-04-06T00:00:00",
          "2020-04-05T00:00:00",
          "2020-04-24T00:00:00",
          "2020-07-23T00:00:00",
          "2020-08-12T00:00:00",
          "2020-03-06T00:00:00",
          "2020-03-06T00:00:00",
          "2020-08-24T00:00:00",
          "2020-06-13T00:00:00",
          "2020-04-16T00:00:00",
          "2020-07-05T00:00:00",
          "2020-06-02T00:00:00",
          "2020-04-19T00:00:00",
          "2020-08-15T00:00:00",
          "2020-07-07T00:00:00",
          "2020-04-17T00:00:00",
          "2020-08-17T00:00:00",
          "2020-08-09T00:00:00",
          "2020-08-05T00:00:00",
          "2020-07-01T00:00:00",
          "2020-07-13T00:00:00",
          "2020-04-01T00:00:00",
          "2020-03-25T00:00:00",
          "2020-04-03T00:00:00",
          "2020-07-26T00:00:00",
          "2020-03-28T00:00:00",
          "2020-03-30T00:00:00",
          "2020-04-20T00:00:00",
          "2020-05-16T00:00:00",
          "2020-07-23T00:00:00",
          "2020-03-12T00:00:00",
          "2020-08-09T00:00:00",
          "2020-03-16T00:00:00",
          "2020-04-09T00:00:00",
          "2020-08-20T00:00:00",
          "2020-04-25T00:00:00",
          "2020-08-19T00:00:00",
          "2020-06-17T00:00:00",
          "2020-08-01T00:00:00",
          "2020-07-03T00:00:00",
          "2020-03-28T00:00:00",
          "2020-08-02T00:00:00",
          "2020-05-10T00:00:00",
          "2020-06-10T00:00:00",
          "2020-06-21T00:00:00",
          "2020-08-24T00:00:00",
          "2020-06-23T00:00:00",
          "2020-05-06T00:00:00",
          "2020-05-30T00:00:00",
          "2020-08-16T00:00:00",
          "2020-04-03T00:00:00",
          "2020-07-24T00:00:00",
          "2020-03-15T00:00:00",
          "2020-08-13T00:00:00",
          "2020-07-29T00:00:00",
          "2020-04-22T00:00:00",
          "2020-07-16T00:00:00",
          "2020-04-16T00:00:00",
          "2020-08-23T00:00:00",
          "2020-04-30T00:00:00",
          "2020-06-30T00:00:00",
          "2020-03-18T00:00:00",
          "2020-04-07T00:00:00",
          "2020-07-14T00:00:00",
          "2020-08-20T00:00:00",
          "2020-07-18T00:00:00",
          "2020-05-26T00:00:00",
          "2020-08-01T00:00:00",
          "2020-05-08T00:00:00",
          "2020-05-28T00:00:00",
          "2020-05-08T00:00:00",
          "2020-03-19T00:00:00",
          "2020-08-09T00:00:00",
          "2020-07-11T00:00:00",
          "2020-07-30T00:00:00",
          "2020-08-13T00:00:00",
          "2020-07-29T00:00:00",
          "2020-07-17T00:00:00",
          "2020-08-21T00:00:00",
          "2020-03-21T00:00:00",
          "2020-08-13T00:00:00",
          "2020-08-04T00:00:00",
          "2020-03-24T00:00:00",
          "2020-03-24T00:00:00",
          "2020-04-08T00:00:00",
          "2020-04-07T00:00:00",
          "2020-03-26T00:00:00",
          "2020-08-15T00:00:00",
          "2020-04-20T00:00:00",
          "2020-05-23T00:00:00",
          "2020-04-02T00:00:00",
          "2020-05-15T00:00:00",
          "2020-04-20T00:00:00",
          "2020-07-17T00:00:00",
          "2020-04-05T00:00:00",
          "2020-05-14T00:00:00",
          "2020-04-08T00:00:00",
          "2020-05-14T00:00:00",
          "2020-08-03T00:00:00"
         ],
         "y": [
          39.65,
          13.216666666666667,
          37.61666666666667,
          39.65,
          27.45,
          48.8,
          21.35,
          -35.583333333333336,
          3.05,
          45.75,
          11.183333333333334,
          52.86666666666667,
          61,
          41.68333333333333,
          24.4,
          28.466666666666665,
          14.233333333333333,
          59.983333333333334,
          55.916666666666664,
          40.666666666666664,
          50.833333333333336,
          30.5,
          35.583333333333336,
          33.55,
          31.516666666666666,
          29.483333333333334,
          46.766666666666666,
          33.55,
          26.433333333333334,
          23.383333333333333,
          34.56666666666667,
          36.6,
          59.983333333333334,
          -15.25,
          44.733333333333334,
          41.68333333333333,
          45.75,
          33.55,
          48.8,
          59.983333333333334,
          55.916666666666664,
          37.61666666666667,
          9.15,
          19.316666666666666,
          -41.68333333333333,
          52.86666666666667,
          43.71666666666667,
          54.9,
          40.666666666666664,
          53.88333333333333,
          0,
          25.416666666666668,
          49.81666666666667,
          53.88333333333333,
          65.06666666666666,
          40.666666666666664,
          36.6,
          24.4,
          31.516666666666666,
          38.63333333333333,
          14.233333333333333,
          56.93333333333333,
          -6.1,
          42.7,
          -33.55,
          50.833333333333336,
          -36.6,
          52.86666666666667,
          46.766666666666666,
          47.78333333333333,
          47.78333333333333,
          -25.416666666666668,
          43.71666666666667,
          27.45,
          63.03333333333333,
          4.066666666666666,
          3.05,
          48.8,
          4.066666666666666,
          35.583333333333336,
          14.233333333333333,
          -12.2,
          5.083333333333333,
          6.1,
          -25.416666666666668,
          9.15,
          42.7,
          23.383333333333333,
          41.68333333333333,
          49.81666666666667,
          35.583333333333336,
          18.3,
          9.15,
          4.066666666666666,
          12.2,
          39.65,
          -4.066666666666666,
          14.233333333333333,
          -17.283333333333335,
          51.85,
          19.316666666666666,
          17.283333333333335,
          6.1,
          23.383333333333333,
          9.15,
          4.066666666666666,
          3.05,
          9.15,
          16.266666666666666,
          -1.0166666666666666,
          18.3,
          -20.333333333333332,
          5.083333333333333,
          -22.366666666666667,
          0,
          -12.2,
          15.25,
          -4.066666666666666,
          -34.56666666666667,
          14.233333333333333,
          14.233333333333333,
          5.083333333333333,
          41.68333333333333,
          2.033333333333333,
          6.1,
          12.2,
          25.416666666666668,
          -6.1,
          6.1,
          65.06666666666666,
          13.216666666666667,
          -15.25,
          13.216666666666667,
          42.7,
          11.183333333333334,
          -18.3,
          13.216666666666667,
          12.2,
          12.2,
          -22.366666666666667,
          13.216666666666667,
          18.3,
          -9.15,
          -17.283333333333335,
          -8.133333333333333,
          -18.3,
          0,
          15.25,
          -25.416666666666668,
          33.55,
          17.283333333333335,
          15.25,
          16.266666666666666,
          17.283333333333335,
          17.283333333333335,
          11.183333333333334,
          18.3,
          12.2,
          -24.4,
          8.133333333333333,
          -3.05,
          -14.233333333333333,
          -51.85,
          0,
          46.766666666666666,
          38.63333333333333,
          -29.483333333333334
         ]
        }
       ],
       "layout": {
        "template": {
         "data": {
          "bar": [
           {
            "error_x": {
             "color": "#2a3f5f"
            },
            "error_y": {
             "color": "#2a3f5f"
            },
            "marker": {
             "line": {
              "color": "#E5ECF6",
              "width": 0.5
             }
            },
            "type": "bar"
           }
          ],
          "barpolar": [
           {
            "marker": {
             "line": {
              "color": "#E5ECF6",
              "width": 0.5
             }
            },
            "type": "barpolar"
           }
          ],
          "carpet": [
           {
            "aaxis": {
             "endlinecolor": "#2a3f5f",
             "gridcolor": "white",
             "linecolor": "white",
             "minorgridcolor": "white",
             "startlinecolor": "#2a3f5f"
            },
            "baxis": {
             "endlinecolor": "#2a3f5f",
             "gridcolor": "white",
             "linecolor": "white",
             "minorgridcolor": "white",
             "startlinecolor": "#2a3f5f"
            },
            "type": "carpet"
           }
          ],
          "choropleth": [
           {
            "colorbar": {
             "outlinewidth": 0,
             "ticks": ""
            },
            "type": "choropleth"
           }
          ],
          "contour": [
           {
            "colorbar": {
             "outlinewidth": 0,
             "ticks": ""
            },
            "colorscale": [
             [
              0,
              "#0d0887"
             ],
             [
              0.1111111111111111,
              "#46039f"
             ],
             [
              0.2222222222222222,
              "#7201a8"
             ],
             [
              0.3333333333333333,
              "#9c179e"
             ],
             [
              0.4444444444444444,
              "#bd3786"
             ],
             [
              0.5555555555555556,
              "#d8576b"
             ],
             [
              0.6666666666666666,
              "#ed7953"
             ],
             [
              0.7777777777777778,
              "#fb9f3a"
             ],
             [
              0.8888888888888888,
              "#fdca26"
             ],
             [
              1,
              "#f0f921"
             ]
            ],
            "type": "contour"
           }
          ],
          "contourcarpet": [
           {
            "colorbar": {
             "outlinewidth": 0,
             "ticks": ""
            },
            "type": "contourcarpet"
           }
          ],
          "heatmap": [
           {
            "colorbar": {
             "outlinewidth": 0,
             "ticks": ""
            },
            "colorscale": [
             [
              0,
              "#0d0887"
             ],
             [
              0.1111111111111111,
              "#46039f"
             ],
             [
              0.2222222222222222,
              "#7201a8"
             ],
             [
              0.3333333333333333,
              "#9c179e"
             ],
             [
              0.4444444444444444,
              "#bd3786"
             ],
             [
              0.5555555555555556,
              "#d8576b"
             ],
             [
              0.6666666666666666,
              "#ed7953"
             ],
             [
              0.7777777777777778,
              "#fb9f3a"
             ],
             [
              0.8888888888888888,
              "#fdca26"
             ],
             [
              1,
              "#f0f921"
             ]
            ],
            "type": "heatmap"
           }
          ],
          "heatmapgl": [
           {
            "colorbar": {
             "outlinewidth": 0,
             "ticks": ""
            },
            "colorscale": [
             [
              0,
              "#0d0887"
             ],
             [
              0.1111111111111111,
              "#46039f"
             ],
             [
              0.2222222222222222,
              "#7201a8"
             ],
             [
              0.3333333333333333,
              "#9c179e"
             ],
             [
              0.4444444444444444,
              "#bd3786"
             ],
             [
              0.5555555555555556,
              "#d8576b"
             ],
             [
              0.6666666666666666,
              "#ed7953"
             ],
             [
              0.7777777777777778,
              "#fb9f3a"
             ],
             [
              0.8888888888888888,
              "#fdca26"
             ],
             [
              1,
              "#f0f921"
             ]
            ],
            "type": "heatmapgl"
           }
          ],
          "histogram": [
           {
            "marker": {
             "colorbar": {
              "outlinewidth": 0,
              "ticks": ""
             }
            },
            "type": "histogram"
           }
          ],
          "histogram2d": [
           {
            "colorbar": {
             "outlinewidth": 0,
             "ticks": ""
            },
            "colorscale": [
             [
              0,
              "#0d0887"
             ],
             [
              0.1111111111111111,
              "#46039f"
             ],
             [
              0.2222222222222222,
              "#7201a8"
             ],
             [
              0.3333333333333333,
              "#9c179e"
             ],
             [
              0.4444444444444444,
              "#bd3786"
             ],
             [
              0.5555555555555556,
              "#d8576b"
             ],
             [
              0.6666666666666666,
              "#ed7953"
             ],
             [
              0.7777777777777778,
              "#fb9f3a"
             ],
             [
              0.8888888888888888,
              "#fdca26"
             ],
             [
              1,
              "#f0f921"
             ]
            ],
            "type": "histogram2d"
           }
          ],
          "histogram2dcontour": [
           {
            "colorbar": {
             "outlinewidth": 0,
             "ticks": ""
            },
            "colorscale": [
             [
              0,
              "#0d0887"
             ],
             [
              0.1111111111111111,
              "#46039f"
             ],
             [
              0.2222222222222222,
              "#7201a8"
             ],
             [
              0.3333333333333333,
              "#9c179e"
             ],
             [
              0.4444444444444444,
              "#bd3786"
             ],
             [
              0.5555555555555556,
              "#d8576b"
             ],
             [
              0.6666666666666666,
              "#ed7953"
             ],
             [
              0.7777777777777778,
              "#fb9f3a"
             ],
             [
              0.8888888888888888,
              "#fdca26"
             ],
             [
              1,
              "#f0f921"
             ]
            ],
            "type": "histogram2dcontour"
           }
          ],
          "mesh3d": [
           {
            "colorbar": {
             "outlinewidth": 0,
             "ticks": ""
            },
            "type": "mesh3d"
           }
          ],
          "parcoords": [
           {
            "line": {
             "colorbar": {
              "outlinewidth": 0,
              "ticks": ""
             }
            },
            "type": "parcoords"
           }
          ],
          "pie": [
           {
            "automargin": true,
            "type": "pie"
           }
          ],
          "scatter": [
           {
            "marker": {
             "colorbar": {
              "outlinewidth": 0,
              "ticks": ""
             }
            },
            "type": "scatter"
           }
          ],
          "scatter3d": [
           {
            "line": {
             "colorbar": {
              "outlinewidth": 0,
              "ticks": ""
             }
            },
            "marker": {
             "colorbar": {
              "outlinewidth": 0,
              "ticks": ""
             }
            },
            "type": "scatter3d"
           }
          ],
          "scattercarpet": [
           {
            "marker": {
             "colorbar": {
              "outlinewidth": 0,
              "ticks": ""
             }
            },
            "type": "scattercarpet"
           }
          ],
          "scattergeo": [
           {
            "marker": {
             "colorbar": {
              "outlinewidth": 0,
              "ticks": ""
             }
            },
            "type": "scattergeo"
           }
          ],
          "scattergl": [
           {
            "marker": {
             "colorbar": {
              "outlinewidth": 0,
              "ticks": ""
             }
            },
            "type": "scattergl"
           }
          ],
          "scattermapbox": [
           {
            "marker": {
             "colorbar": {
              "outlinewidth": 0,
              "ticks": ""
             }
            },
            "type": "scattermapbox"
           }
          ],
          "scatterpolar": [
           {
            "marker": {
             "colorbar": {
              "outlinewidth": 0,
              "ticks": ""
             }
            },
            "type": "scatterpolar"
           }
          ],
          "scatterpolargl": [
           {
            "marker": {
             "colorbar": {
              "outlinewidth": 0,
              "ticks": ""
             }
            },
            "type": "scatterpolargl"
           }
          ],
          "scatterternary": [
           {
            "marker": {
             "colorbar": {
              "outlinewidth": 0,
              "ticks": ""
             }
            },
            "type": "scatterternary"
           }
          ],
          "surface": [
           {
            "colorbar": {
             "outlinewidth": 0,
             "ticks": ""
            },
            "colorscale": [
             [
              0,
              "#0d0887"
             ],
             [
              0.1111111111111111,
              "#46039f"
             ],
             [
              0.2222222222222222,
              "#7201a8"
             ],
             [
              0.3333333333333333,
              "#9c179e"
             ],
             [
              0.4444444444444444,
              "#bd3786"
             ],
             [
              0.5555555555555556,
              "#d8576b"
             ],
             [
              0.6666666666666666,
              "#ed7953"
             ],
             [
              0.7777777777777778,
              "#fb9f3a"
             ],
             [
              0.8888888888888888,
              "#fdca26"
             ],
             [
              1,
              "#f0f921"
             ]
            ],
            "type": "surface"
           }
          ],
          "table": [
           {
            "cells": {
             "fill": {
              "color": "#EBF0F8"
             },
             "line": {
              "color": "white"
             }
            },
            "header": {
             "fill": {
              "color": "#C8D4E3"
             },
             "line": {
              "color": "white"
             }
            },
            "type": "table"
           }
          ]
         },
         "layout": {
          "annotationdefaults": {
           "arrowcolor": "#2a3f5f",
           "arrowhead": 0,
           "arrowwidth": 1
          },
          "coloraxis": {
           "colorbar": {
            "outlinewidth": 0,
            "ticks": ""
           }
          },
          "colorscale": {
           "diverging": [
            [
             0,
             "#8e0152"
            ],
            [
             0.1,
             "#c51b7d"
            ],
            [
             0.2,
             "#de77ae"
            ],
            [
             0.3,
             "#f1b6da"
            ],
            [
             0.4,
             "#fde0ef"
            ],
            [
             0.5,
             "#f7f7f7"
            ],
            [
             0.6,
             "#e6f5d0"
            ],
            [
             0.7,
             "#b8e186"
            ],
            [
             0.8,
             "#7fbc41"
            ],
            [
             0.9,
             "#4d9221"
            ],
            [
             1,
             "#276419"
            ]
           ],
           "sequential": [
            [
             0,
             "#0d0887"
            ],
            [
             0.1111111111111111,
             "#46039f"
            ],
            [
             0.2222222222222222,
             "#7201a8"
            ],
            [
             0.3333333333333333,
             "#9c179e"
            ],
            [
             0.4444444444444444,
             "#bd3786"
            ],
            [
             0.5555555555555556,
             "#d8576b"
            ],
            [
             0.6666666666666666,
             "#ed7953"
            ],
            [
             0.7777777777777778,
             "#fb9f3a"
            ],
            [
             0.8888888888888888,
             "#fdca26"
            ],
            [
             1,
             "#f0f921"
            ]
           ],
           "sequentialminus": [
            [
             0,
             "#0d0887"
            ],
            [
             0.1111111111111111,
             "#46039f"
            ],
            [
             0.2222222222222222,
             "#7201a8"
            ],
            [
             0.3333333333333333,
             "#9c179e"
            ],
            [
             0.4444444444444444,
             "#bd3786"
            ],
            [
             0.5555555555555556,
             "#d8576b"
            ],
            [
             0.6666666666666666,
             "#ed7953"
            ],
            [
             0.7777777777777778,
             "#fb9f3a"
            ],
            [
             0.8888888888888888,
             "#fdca26"
            ],
            [
             1,
             "#f0f921"
            ]
           ]
          },
          "colorway": [
           "#636efa",
           "#EF553B",
           "#00cc96",
           "#ab63fa",
           "#FFA15A",
           "#19d3f3",
           "#FF6692",
           "#B6E880",
           "#FF97FF",
           "#FECB52"
          ],
          "font": {
           "color": "#2a3f5f"
          },
          "geo": {
           "bgcolor": "white",
           "lakecolor": "white",
           "landcolor": "#E5ECF6",
           "showlakes": true,
           "showland": true,
           "subunitcolor": "white"
          },
          "hoverlabel": {
           "align": "left"
          },
          "hovermode": "closest",
          "mapbox": {
           "style": "light"
          },
          "paper_bgcolor": "white",
          "plot_bgcolor": "#E5ECF6",
          "polar": {
           "angularaxis": {
            "gridcolor": "white",
            "linecolor": "white",
            "ticks": ""
           },
           "bgcolor": "#E5ECF6",
           "radialaxis": {
            "gridcolor": "white",
            "linecolor": "white",
            "ticks": ""
           }
          },
          "scene": {
           "xaxis": {
            "backgroundcolor": "#E5ECF6",
            "gridcolor": "white",
            "gridwidth": 2,
            "linecolor": "white",
            "showbackground": true,
            "ticks": "",
            "zerolinecolor": "white"
           },
           "yaxis": {
            "backgroundcolor": "#E5ECF6",
            "gridcolor": "white",
            "gridwidth": 2,
            "linecolor": "white",
            "showbackground": true,
            "ticks": "",
            "zerolinecolor": "white"
           },
           "zaxis": {
            "backgroundcolor": "#E5ECF6",
            "gridcolor": "white",
            "gridwidth": 2,
            "linecolor": "white",
            "showbackground": true,
            "ticks": "",
            "zerolinecolor": "white"
           }
          },
          "shapedefaults": {
           "line": {
            "color": "#2a3f5f"
           }
          },
          "ternary": {
           "aaxis": {
            "gridcolor": "white",
            "linecolor": "white",
            "ticks": ""
           },
           "baxis": {
            "gridcolor": "white",
            "linecolor": "white",
            "ticks": ""
           },
           "bgcolor": "#E5ECF6",
           "caxis": {
            "gridcolor": "white",
            "linecolor": "white",
            "ticks": ""
           }
          },
          "title": {
           "x": 0.05
          },
          "xaxis": {
           "automargin": true,
           "gridcolor": "white",
           "linecolor": "white",
           "ticks": "",
           "title": {
            "standoff": 15
           },
           "zerolinecolor": "white",
           "zerolinewidth": 2
          },
          "yaxis": {
           "automargin": true,
           "gridcolor": "white",
           "linecolor": "white",
           "ticks": "",
           "title": {
            "standoff": 15
           },
           "zerolinecolor": "white",
           "zerolinewidth": 2
          }
         }
        }
       }
      },
      "text/html": [
       "<div>\n",
       "        \n",
       "        \n",
       "            <div id=\"90558d07-2e2f-41f3-8041-67f5225a65a0\" class=\"plotly-graph-div\" style=\"height:525px; width:100%;\"></div>\n",
       "            <script type=\"text/javascript\">\n",
       "                require([\"plotly\"], function(Plotly) {\n",
       "                    window.PLOTLYENV=window.PLOTLYENV || {};\n",
       "                    \n",
       "                if (document.getElementById(\"90558d07-2e2f-41f3-8041-67f5225a65a0\")) {\n",
       "                    Plotly.newPlot(\n",
       "                        '90558d07-2e2f-41f3-8041-67f5225a65a0',\n",
       "                        [{\"marker\": {\"size\": [120, 40, 0, 0, 40, 40, 0, 40, 40, 40, 40, 40, 20, 40, 20, 120, 80, 40, 80, 40, 40, 0, 0, 20, 20, 20, 20, 40, 20, 20, 40, 40, 20, 80, 40, 20, 20, 80, 20, 20, 20, 40, 80, 80, 20, 40, 5, 20, 40, 20, 40, 20, 5, 20, 5, 20, 40, 40, 40, 40, 40, 20, 80, 5, 40, 40, 40, 40, 20, 5, 20, 40, 20, 5, 5, 40, 40, 0, 5, 5, 0, 40, 0, 20, 20, 20, 20, 80, 20, 0, 20, 20, 20, 5, 40, 40, 0, 20, 5, 40, 5, 5, 5, 40, 80, 20, 20, 40, 0, 40, 20, 20, 40, 20, 20, 0, 40, 0, 20, 40, 0, 5, 40, 40, 20, 5, 0, 0, 40, 5, 5, 40, 0, 0, 5, 5, 40, 20, 40, 5, 20, 40, 20, 40, 40, 40, 40, 0, 40, 40, 0, 5, 40, 5, 0, 20, 5, 40, 20, 20, 40, 40, 0, 5, 0, 20, 20]}, \"mode\": \"markers\", \"text\": [\"China\", \"Thailand\", \"Republic of Korea\", \"United States of America\", \"Nepal\", \"France\", \"Viet Nam\", \"Australia\", \"Malaysia\", \"Canada\", \"Cambodia\", \"Germany\", \"Finland\", \"Italy\", \"United Arab Emirates\", \"India\", \"Philippines\", \"Sweden\", \"Russian Federation\", \"Spain\", \"Belgium\", \"Egypt\", \"Iran (Islamic Republic of)\", \"Lebanon\", \"Israel\", \"Kuwait\", \"Switzerland\", \"Iraq\", \"Bahrain\", \"Oman\", \"Afghanistan\", \"Algeria\", \"Norway\", \"Brazil\", \"Romania\", \"Georgia\", \"Croatia\", \"Pakistan\", \"Austria\", \"Estonia\", \"Denmark\", \"Greece\", \"Nigeria\", \"Mexico\", \"New Zealand\", \"Netherlands\", \"San Marino\", \"Lithuania\", \"Azerbaijan\", \"Belarus\", \"Ecuador\", \"Qatar\", \"Luxembourg\", \"Ireland\", \"Iceland\", \"Armenia\", \"Tunisia\", \"Saudi Arabia\", \"Jordan\", \"Portugal\", \"Senegal\", \"Latvia\", \"Indonesia\", \"Andorra\", \"Chile\", \"Ukraine\", \"Argentina\", \"Poland\", \"Slovenia\", \"Liechtenstein\", \"Hungary\", \"South Africa\", \"Bosnia and Herzegovina\", \"Bhutan\", \"Faroe Islands\", \"Colombia\", \"Cameroon\", \"Slovakia\", \"Maldives\", \"Malta\", \"Martinique\", \"Peru\", \"French Guiana\", \"Togo\", \"Paraguay\", \"Costa Rica\", \"Bulgaria\", \"Bangladesh\", \"Albania\", \"Guernsey\", \"Cyprus\", \"Jamaica\", \"Panama\", \"Brunei Darussalam\", \"Burkina Faso\", \"Turkey\", \"Democratic Republic of the Congo\", \"Honduras\", \"French Polynesia\", \"Kazakhstan\", \"Cayman Islands\", \"Antigua and Barbuda\", \"Guyana\", \"Cuba\", \"Ethiopia\", \"Central African Republic\", \"Equatorial Guinea\", \"Guinea\", \"Guadeloupe\", \"Kenya\", \"Puerto Rico\", \"Mauritania\", \"Ghana\", \"Namibia\", \"Gabon\", \"Mayotte\", \"Sudan\", \"Congo\", \"Uruguay\", \"Guatemala\", \"Saint Lucia\", \"Suriname\", \"Uzbekistan\", \"Somalia\", \"Liberia\", \"Aruba\", \"Bahamas\", \"United Republic of Tanzania\", \"Benin\", \"Greenland\", \"Barbados\", \"Zambia\", \"Gambia\", \"Kyrgyzstan\", \"Djibouti\", \"Fiji\", \"Niger\", \"Nicaragua\", \"Chad\", \"New Caledonia\", \"El Salvador\", \"Haiti\", \"Papua New Guinea\", \"Zimbabwe\", \"Angola\", \"Madagascar\", \"Uganda\", \"Eritrea\", \"Mozambique\", \"Syrian Arab Republic\", \"Lao People's Democratic Republic\", \"Dominica\", \"Myanmar\", \"Belize\", \"Saint Kitts and Nevis\", \"Guinea-Bissau\", \"British Virgin Islands\", \"Mali\", \"Botswana\", \"Sierra Leone\", \"Burundi\", \"Malawi\", \"Falkland Islands (Malvinas)\", \"Sao Tome and Principe\", \"Saint Pierre and Miquelon\", \"Tajikistan\", \"Lesotho\"], \"type\": \"scatter\", \"x\": [\"2020-04-17T00:00:00\", \"2020-04-03T00:00:00\", \"2020-03-19T00:00:00\", \"2020-04-17T00:00:00\", \"2020-08-22T00:00:00\", \"2020-04-04T00:00:00\", \"2020-08-03T00:00:00\", \"2020-08-18T00:00:00\", \"2020-03-30T00:00:00\", \"2020-05-04T00:00:00\", \"2020-01-27T00:00:00\", \"2020-04-16T00:00:00\", \"2020-04-22T00:00:00\", \"2020-03-28T00:00:00\", \"2020-05-10T00:00:00\", \"2020-06-17T00:00:00\", \"2020-07-13T00:00:00\", \"2020-04-22T00:00:00\", \"2020-05-29T00:00:00\", \"2020-03-30T00:00:00\", \"2020-04-13T00:00:00\", \"2020-06-16T00:00:00\", \"2020-07-29T00:00:00\", \"2020-08-12T00:00:00\", \"2020-08-24T00:00:00\", \"2020-05-16T00:00:00\", \"2020-04-02T00:00:00\", \"2020-06-27T00:00:00\", \"2020-06-19T00:00:00\", \"2020-08-06T00:00:00\", \"2020-07-15T00:00:00\", \"2020-04-07T00:00:00\", \"2020-04-15T00:00:00\", \"2020-07-31T00:00:00\", \"2020-08-14T00:00:00\", \"2020-05-02T00:00:00\", \"2020-04-20T00:00:00\", \"2020-06-20T00:00:00\", \"2020-04-23T00:00:00\", \"2020-04-03T00:00:00\", \"2020-04-05T00:00:00\", \"2020-04-05T00:00:00\", \"2020-06-18T00:00:00\", \"2020-06-05T00:00:00\", \"2020-04-14T00:00:00\", \"2020-04-08T00:00:00\", \"2020-03-21T00:00:00\", \"2020-04-12T00:00:00\", \"2020-07-22T00:00:00\", \"2020-05-13T00:00:00\", \"2020-05-11T00:00:00\", \"2020-06-20T00:00:00\", \"2020-04-12T00:00:00\", \"2020-04-26T00:00:00\", \"2020-04-03T00:00:00\", \"2020-06-02T00:00:00\", \"2020-04-03T00:00:00\", \"2020-07-06T00:00:00\", \"2020-08-04T00:00:00\", \"2020-05-04T00:00:00\", \"2020-06-17T00:00:00\", \"2020-04-22T00:00:00\", \"2020-08-24T00:00:00\", \"2020-03-31T00:00:00\", \"2020-07-18T00:00:00\", \"2020-08-20T00:00:00\", \"2020-08-13T00:00:00\", \"2020-04-25T00:00:00\", \"2020-04-06T00:00:00\", \"2020-04-05T00:00:00\", \"2020-04-24T00:00:00\", \"2020-07-23T00:00:00\", \"2020-08-12T00:00:00\", \"2020-03-06T00:00:00\", \"2020-03-06T00:00:00\", \"2020-08-24T00:00:00\", \"2020-06-13T00:00:00\", \"2020-04-16T00:00:00\", \"2020-07-05T00:00:00\", \"2020-06-02T00:00:00\", \"2020-04-19T00:00:00\", \"2020-08-15T00:00:00\", \"2020-07-07T00:00:00\", \"2020-04-17T00:00:00\", \"2020-08-17T00:00:00\", \"2020-08-09T00:00:00\", \"2020-08-05T00:00:00\", \"2020-07-01T00:00:00\", \"2020-07-13T00:00:00\", \"2020-04-01T00:00:00\", \"2020-03-25T00:00:00\", \"2020-04-03T00:00:00\", \"2020-07-26T00:00:00\", \"2020-03-28T00:00:00\", \"2020-03-30T00:00:00\", \"2020-04-20T00:00:00\", \"2020-05-16T00:00:00\", \"2020-07-23T00:00:00\", \"2020-03-12T00:00:00\", \"2020-08-09T00:00:00\", \"2020-03-16T00:00:00\", \"2020-04-09T00:00:00\", \"2020-08-20T00:00:00\", \"2020-04-25T00:00:00\", \"2020-08-19T00:00:00\", \"2020-06-17T00:00:00\", \"2020-08-01T00:00:00\", \"2020-07-03T00:00:00\", \"2020-03-28T00:00:00\", \"2020-08-02T00:00:00\", \"2020-05-10T00:00:00\", \"2020-06-10T00:00:00\", \"2020-06-21T00:00:00\", \"2020-08-24T00:00:00\", \"2020-06-23T00:00:00\", \"2020-05-06T00:00:00\", \"2020-05-30T00:00:00\", \"2020-08-16T00:00:00\", \"2020-04-03T00:00:00\", \"2020-07-24T00:00:00\", \"2020-03-15T00:00:00\", \"2020-08-13T00:00:00\", \"2020-07-29T00:00:00\", \"2020-04-22T00:00:00\", \"2020-07-16T00:00:00\", \"2020-04-16T00:00:00\", \"2020-08-23T00:00:00\", \"2020-04-30T00:00:00\", \"2020-06-30T00:00:00\", \"2020-03-18T00:00:00\", \"2020-04-07T00:00:00\", \"2020-07-14T00:00:00\", \"2020-08-20T00:00:00\", \"2020-07-18T00:00:00\", \"2020-05-26T00:00:00\", \"2020-08-01T00:00:00\", \"2020-05-08T00:00:00\", \"2020-05-28T00:00:00\", \"2020-05-08T00:00:00\", \"2020-03-19T00:00:00\", \"2020-08-09T00:00:00\", \"2020-07-11T00:00:00\", \"2020-07-30T00:00:00\", \"2020-08-13T00:00:00\", \"2020-07-29T00:00:00\", \"2020-07-17T00:00:00\", \"2020-08-21T00:00:00\", \"2020-03-21T00:00:00\", \"2020-08-13T00:00:00\", \"2020-08-04T00:00:00\", \"2020-03-24T00:00:00\", \"2020-03-24T00:00:00\", \"2020-04-08T00:00:00\", \"2020-04-07T00:00:00\", \"2020-03-26T00:00:00\", \"2020-08-15T00:00:00\", \"2020-04-20T00:00:00\", \"2020-05-23T00:00:00\", \"2020-04-02T00:00:00\", \"2020-05-15T00:00:00\", \"2020-04-20T00:00:00\", \"2020-07-17T00:00:00\", \"2020-04-05T00:00:00\", \"2020-05-14T00:00:00\", \"2020-04-08T00:00:00\", \"2020-05-14T00:00:00\", \"2020-08-03T00:00:00\"], \"y\": [39.65, 13.216666666666667, 37.61666666666667, 39.65, 27.45, 48.8, 21.35, -35.583333333333336, 3.05, 45.75, 11.183333333333334, 52.86666666666667, 61.0, 41.68333333333333, 24.4, 28.466666666666665, 14.233333333333333, 59.983333333333334, 55.916666666666664, 40.666666666666664, 50.833333333333336, 30.5, 35.583333333333336, 33.55, 31.516666666666666, 29.483333333333334, 46.766666666666666, 33.55, 26.433333333333334, 23.383333333333333, 34.56666666666667, 36.6, 59.983333333333334, -15.25, 44.733333333333334, 41.68333333333333, 45.75, 33.55, 48.8, 59.983333333333334, 55.916666666666664, 37.61666666666667, 9.15, 19.316666666666666, -41.68333333333333, 52.86666666666667, 43.71666666666667, 54.9, 40.666666666666664, 53.88333333333333, -0.0, 25.416666666666668, 49.81666666666667, 53.88333333333333, 65.06666666666666, 40.666666666666664, 36.6, 24.4, 31.516666666666666, 38.63333333333333, 14.233333333333333, 56.93333333333333, -6.1, 42.7, -33.55, 50.833333333333336, -36.6, 52.86666666666667, 46.766666666666666, 47.78333333333333, 47.78333333333333, -25.416666666666668, 43.71666666666667, 27.45, 63.03333333333333, 4.066666666666666, 3.05, 48.8, 4.066666666666666, 35.583333333333336, 14.233333333333333, -12.2, 5.083333333333333, 6.1, -25.416666666666668, 9.15, 42.7, 23.383333333333333, 41.68333333333333, 49.81666666666667, 35.583333333333336, 18.3, 9.15, 4.066666666666666, 12.2, 39.65, -4.066666666666666, 14.233333333333333, -17.283333333333335, 51.85, 19.316666666666666, 17.283333333333335, 6.1, 23.383333333333333, 9.15, 4.066666666666666, 3.05, 9.15, 16.266666666666666, -1.0166666666666666, 18.3, -20.333333333333332, 5.083333333333333, -22.366666666666667, 0.0, -12.2, 15.25, -4.066666666666666, -34.56666666666667, 14.233333333333333, 14.233333333333333, 5.083333333333333, 41.68333333333333, 2.033333333333333, 6.1, 12.2, 25.416666666666668, -6.1, 6.1, 65.06666666666666, 13.216666666666667, -15.25, 13.216666666666667, 42.7, 11.183333333333334, -18.3, 13.216666666666667, 12.2, 12.2, -22.366666666666667, 13.216666666666667, 18.3, -9.15, -17.283333333333335, -8.133333333333333, -18.3, 0.0, 15.25, -25.416666666666668, 33.55, 17.283333333333335, 15.25, 16.266666666666666, 17.283333333333335, 17.283333333333335, 11.183333333333334, 18.3, 12.2, -24.4, 8.133333333333333, -3.05, -14.233333333333333, -51.85, 0.0, 46.766666666666666, 38.63333333333333, -29.483333333333334]}],\n",
       "                        {\"template\": {\"data\": {\"bar\": [{\"error_x\": {\"color\": \"#2a3f5f\"}, \"error_y\": {\"color\": \"#2a3f5f\"}, \"marker\": {\"line\": {\"color\": \"#E5ECF6\", \"width\": 0.5}}, \"type\": \"bar\"}], \"barpolar\": [{\"marker\": {\"line\": {\"color\": \"#E5ECF6\", \"width\": 0.5}}, \"type\": \"barpolar\"}], \"carpet\": [{\"aaxis\": {\"endlinecolor\": \"#2a3f5f\", \"gridcolor\": \"white\", \"linecolor\": \"white\", \"minorgridcolor\": \"white\", \"startlinecolor\": \"#2a3f5f\"}, \"baxis\": {\"endlinecolor\": \"#2a3f5f\", \"gridcolor\": \"white\", \"linecolor\": \"white\", \"minorgridcolor\": \"white\", \"startlinecolor\": \"#2a3f5f\"}, \"type\": \"carpet\"}], \"choropleth\": [{\"colorbar\": {\"outlinewidth\": 0, \"ticks\": \"\"}, \"type\": \"choropleth\"}], \"contour\": [{\"colorbar\": {\"outlinewidth\": 0, \"ticks\": \"\"}, \"colorscale\": [[0.0, \"#0d0887\"], [0.1111111111111111, \"#46039f\"], [0.2222222222222222, \"#7201a8\"], [0.3333333333333333, \"#9c179e\"], [0.4444444444444444, \"#bd3786\"], [0.5555555555555556, \"#d8576b\"], [0.6666666666666666, \"#ed7953\"], [0.7777777777777778, \"#fb9f3a\"], [0.8888888888888888, \"#fdca26\"], [1.0, \"#f0f921\"]], \"type\": \"contour\"}], \"contourcarpet\": [{\"colorbar\": {\"outlinewidth\": 0, \"ticks\": \"\"}, \"type\": \"contourcarpet\"}], \"heatmap\": [{\"colorbar\": {\"outlinewidth\": 0, \"ticks\": \"\"}, \"colorscale\": [[0.0, \"#0d0887\"], [0.1111111111111111, \"#46039f\"], [0.2222222222222222, \"#7201a8\"], [0.3333333333333333, \"#9c179e\"], [0.4444444444444444, \"#bd3786\"], [0.5555555555555556, \"#d8576b\"], [0.6666666666666666, \"#ed7953\"], [0.7777777777777778, \"#fb9f3a\"], [0.8888888888888888, \"#fdca26\"], [1.0, \"#f0f921\"]], \"type\": \"heatmap\"}], \"heatmapgl\": [{\"colorbar\": {\"outlinewidth\": 0, \"ticks\": \"\"}, \"colorscale\": [[0.0, \"#0d0887\"], [0.1111111111111111, \"#46039f\"], [0.2222222222222222, \"#7201a8\"], [0.3333333333333333, \"#9c179e\"], [0.4444444444444444, \"#bd3786\"], [0.5555555555555556, \"#d8576b\"], [0.6666666666666666, \"#ed7953\"], [0.7777777777777778, \"#fb9f3a\"], [0.8888888888888888, \"#fdca26\"], [1.0, \"#f0f921\"]], \"type\": \"heatmapgl\"}], \"histogram\": [{\"marker\": {\"colorbar\": {\"outlinewidth\": 0, \"ticks\": \"\"}}, \"type\": \"histogram\"}], \"histogram2d\": [{\"colorbar\": {\"outlinewidth\": 0, \"ticks\": \"\"}, \"colorscale\": [[0.0, \"#0d0887\"], [0.1111111111111111, \"#46039f\"], [0.2222222222222222, \"#7201a8\"], [0.3333333333333333, \"#9c179e\"], [0.4444444444444444, \"#bd3786\"], [0.5555555555555556, \"#d8576b\"], [0.6666666666666666, \"#ed7953\"], [0.7777777777777778, \"#fb9f3a\"], [0.8888888888888888, \"#fdca26\"], [1.0, \"#f0f921\"]], \"type\": \"histogram2d\"}], \"histogram2dcontour\": [{\"colorbar\": {\"outlinewidth\": 0, \"ticks\": \"\"}, \"colorscale\": [[0.0, \"#0d0887\"], [0.1111111111111111, \"#46039f\"], [0.2222222222222222, \"#7201a8\"], [0.3333333333333333, \"#9c179e\"], [0.4444444444444444, \"#bd3786\"], [0.5555555555555556, \"#d8576b\"], [0.6666666666666666, \"#ed7953\"], [0.7777777777777778, \"#fb9f3a\"], [0.8888888888888888, \"#fdca26\"], [1.0, \"#f0f921\"]], \"type\": \"histogram2dcontour\"}], \"mesh3d\": [{\"colorbar\": {\"outlinewidth\": 0, \"ticks\": \"\"}, \"type\": \"mesh3d\"}], \"parcoords\": [{\"line\": {\"colorbar\": {\"outlinewidth\": 0, \"ticks\": \"\"}}, \"type\": \"parcoords\"}], \"pie\": [{\"automargin\": true, \"type\": \"pie\"}], \"scatter\": [{\"marker\": {\"colorbar\": {\"outlinewidth\": 0, \"ticks\": \"\"}}, \"type\": \"scatter\"}], \"scatter3d\": [{\"line\": {\"colorbar\": {\"outlinewidth\": 0, \"ticks\": \"\"}}, \"marker\": {\"colorbar\": {\"outlinewidth\": 0, \"ticks\": \"\"}}, \"type\": \"scatter3d\"}], \"scattercarpet\": [{\"marker\": {\"colorbar\": {\"outlinewidth\": 0, \"ticks\": \"\"}}, \"type\": \"scattercarpet\"}], \"scattergeo\": [{\"marker\": {\"colorbar\": {\"outlinewidth\": 0, \"ticks\": \"\"}}, \"type\": \"scattergeo\"}], \"scattergl\": [{\"marker\": {\"colorbar\": {\"outlinewidth\": 0, \"ticks\": \"\"}}, \"type\": \"scattergl\"}], \"scattermapbox\": [{\"marker\": {\"colorbar\": {\"outlinewidth\": 0, \"ticks\": \"\"}}, \"type\": \"scattermapbox\"}], \"scatterpolar\": [{\"marker\": {\"colorbar\": {\"outlinewidth\": 0, \"ticks\": \"\"}}, \"type\": \"scatterpolar\"}], \"scatterpolargl\": [{\"marker\": {\"colorbar\": {\"outlinewidth\": 0, \"ticks\": \"\"}}, \"type\": \"scatterpolargl\"}], \"scatterternary\": [{\"marker\": {\"colorbar\": {\"outlinewidth\": 0, \"ticks\": \"\"}}, \"type\": \"scatterternary\"}], \"surface\": [{\"colorbar\": {\"outlinewidth\": 0, \"ticks\": \"\"}, \"colorscale\": [[0.0, \"#0d0887\"], [0.1111111111111111, \"#46039f\"], [0.2222222222222222, \"#7201a8\"], [0.3333333333333333, \"#9c179e\"], [0.4444444444444444, \"#bd3786\"], [0.5555555555555556, \"#d8576b\"], [0.6666666666666666, \"#ed7953\"], [0.7777777777777778, \"#fb9f3a\"], [0.8888888888888888, \"#fdca26\"], [1.0, \"#f0f921\"]], \"type\": \"surface\"}], \"table\": [{\"cells\": {\"fill\": {\"color\": \"#EBF0F8\"}, \"line\": {\"color\": \"white\"}}, \"header\": {\"fill\": {\"color\": \"#C8D4E3\"}, \"line\": {\"color\": \"white\"}}, \"type\": \"table\"}]}, \"layout\": {\"annotationdefaults\": {\"arrowcolor\": \"#2a3f5f\", \"arrowhead\": 0, \"arrowwidth\": 1}, \"coloraxis\": {\"colorbar\": {\"outlinewidth\": 0, \"ticks\": \"\"}}, \"colorscale\": {\"diverging\": [[0, \"#8e0152\"], [0.1, \"#c51b7d\"], [0.2, \"#de77ae\"], [0.3, \"#f1b6da\"], [0.4, \"#fde0ef\"], [0.5, \"#f7f7f7\"], [0.6, \"#e6f5d0\"], [0.7, \"#b8e186\"], [0.8, \"#7fbc41\"], [0.9, \"#4d9221\"], [1, \"#276419\"]], \"sequential\": [[0.0, \"#0d0887\"], [0.1111111111111111, \"#46039f\"], [0.2222222222222222, \"#7201a8\"], [0.3333333333333333, \"#9c179e\"], [0.4444444444444444, \"#bd3786\"], [0.5555555555555556, \"#d8576b\"], [0.6666666666666666, \"#ed7953\"], [0.7777777777777778, \"#fb9f3a\"], [0.8888888888888888, \"#fdca26\"], [1.0, \"#f0f921\"]], \"sequentialminus\": [[0.0, \"#0d0887\"], [0.1111111111111111, \"#46039f\"], [0.2222222222222222, \"#7201a8\"], [0.3333333333333333, \"#9c179e\"], [0.4444444444444444, \"#bd3786\"], [0.5555555555555556, \"#d8576b\"], [0.6666666666666666, \"#ed7953\"], [0.7777777777777778, \"#fb9f3a\"], [0.8888888888888888, \"#fdca26\"], [1.0, \"#f0f921\"]]}, \"colorway\": [\"#636efa\", \"#EF553B\", \"#00cc96\", \"#ab63fa\", \"#FFA15A\", \"#19d3f3\", \"#FF6692\", \"#B6E880\", \"#FF97FF\", \"#FECB52\"], \"font\": {\"color\": \"#2a3f5f\"}, \"geo\": {\"bgcolor\": \"white\", \"lakecolor\": \"white\", \"landcolor\": \"#E5ECF6\", \"showlakes\": true, \"showland\": true, \"subunitcolor\": \"white\"}, \"hoverlabel\": {\"align\": \"left\"}, \"hovermode\": \"closest\", \"mapbox\": {\"style\": \"light\"}, \"paper_bgcolor\": \"white\", \"plot_bgcolor\": \"#E5ECF6\", \"polar\": {\"angularaxis\": {\"gridcolor\": \"white\", \"linecolor\": \"white\", \"ticks\": \"\"}, \"bgcolor\": \"#E5ECF6\", \"radialaxis\": {\"gridcolor\": \"white\", \"linecolor\": \"white\", \"ticks\": \"\"}}, \"scene\": {\"xaxis\": {\"backgroundcolor\": \"#E5ECF6\", \"gridcolor\": \"white\", \"gridwidth\": 2, \"linecolor\": \"white\", \"showbackground\": true, \"ticks\": \"\", \"zerolinecolor\": \"white\"}, \"yaxis\": {\"backgroundcolor\": \"#E5ECF6\", \"gridcolor\": \"white\", \"gridwidth\": 2, \"linecolor\": \"white\", \"showbackground\": true, \"ticks\": \"\", \"zerolinecolor\": \"white\"}, \"zaxis\": {\"backgroundcolor\": \"#E5ECF6\", \"gridcolor\": \"white\", \"gridwidth\": 2, \"linecolor\": \"white\", \"showbackground\": true, \"ticks\": \"\", \"zerolinecolor\": \"white\"}}, \"shapedefaults\": {\"line\": {\"color\": \"#2a3f5f\"}}, \"ternary\": {\"aaxis\": {\"gridcolor\": \"white\", \"linecolor\": \"white\", \"ticks\": \"\"}, \"baxis\": {\"gridcolor\": \"white\", \"linecolor\": \"white\", \"ticks\": \"\"}, \"bgcolor\": \"#E5ECF6\", \"caxis\": {\"gridcolor\": \"white\", \"linecolor\": \"white\", \"ticks\": \"\"}}, \"title\": {\"x\": 0.05}, \"xaxis\": {\"automargin\": true, \"gridcolor\": \"white\", \"linecolor\": \"white\", \"ticks\": \"\", \"title\": {\"standoff\": 15}, \"zerolinecolor\": \"white\", \"zerolinewidth\": 2}, \"yaxis\": {\"automargin\": true, \"gridcolor\": \"white\", \"linecolor\": \"white\", \"ticks\": \"\", \"title\": {\"standoff\": 15}, \"zerolinecolor\": \"white\", \"zerolinewidth\": 2}}}},\n",
       "                        {\"responsive\": true}\n",
       "                    ).then(function(){\n",
       "                            \n",
       "var gd = document.getElementById('90558d07-2e2f-41f3-8041-67f5225a65a0');\n",
       "var x = new MutationObserver(function (mutations, observer) {{\n",
       "        var display = window.getComputedStyle(gd).display;\n",
       "        if (!display || display === 'none') {{\n",
       "            console.log([gd, 'removed!']);\n",
       "            Plotly.purge(gd);\n",
       "            observer.disconnect();\n",
       "        }}\n",
       "}});\n",
       "\n",
       "// Listen for the removal of the full notebook cells\n",
       "var notebookContainer = gd.closest('#notebook-container');\n",
       "if (notebookContainer) {{\n",
       "    x.observe(notebookContainer, {childList: true});\n",
       "}}\n",
       "\n",
       "// Listen for the clearing of the current output cell\n",
       "var outputEl = gd.closest('.output');\n",
       "if (outputEl) {{\n",
       "    x.observe(outputEl, {childList: true});\n",
       "}}\n",
       "\n",
       "                        })\n",
       "                };\n",
       "                });\n",
       "            </script>\n",
       "        </div>"
      ]
     },
     "metadata": {},
     "output_type": "display_data"
    }
   ],
   "source": [
    "with open('lat_lon.txt') as f:\n",
    "    lines = f.readlines()\n",
    "    \n",
    "for line in lines:\n",
    "    val = line.split('\\t')\n",
    "    country = val[0]\n",
    "    lat = str_to_lat(val[2])\n",
    "    if country in new_deaths_by_country.keys():\n",
    "        new_deaths_by_country[val[0]]['lat'] = lat\n",
    "\n",
    "temp_dict = {}\n",
    "for country in new_deaths_by_country.keys():\n",
    "    if new_deaths_by_country[country]['lat'] is not None:\n",
    "        temp_dict[country] = new_deaths_by_country[country]\n",
    "new_deaths_by_country = temp_dict\n",
    "\n",
    "x = [pair['peak_date'] for pair in new_deaths_by_country.values()]\n",
    "y = [pair['lat'] for pair in new_deaths_by_country.values()]\n",
    "countries = [country[0] for country in new_deaths_by_country.items()]\n",
    "\n",
    "\n",
    "\n",
    "population_per_country = [lookup_pop(country) for country in countries]\n",
    "\n",
    "fig = go.Figure(data = go.Scatter(x=x, y=y, mode='markers', text=countries, marker_size=population_per_country))\n",
    "fig.show()"
   ]
  },
  {
   "cell_type": "code",
   "execution_count": 31,
   "metadata": {},
   "outputs": [],
   "source": [
    "#![plot](newplot.png)"
   ]
  },
  {
   "cell_type": "markdown",
   "metadata": {},
   "source": [
    "In summary: While there does appear to be a downward trend in the data it is not a very strong correlation in this basic analysis. "
   ]
  }
 ],
 "metadata": {
  "kernelspec": {
   "display_name": "Python 3",
   "language": "python",
   "name": "python3"
  },
  "language_info": {
   "codemirror_mode": {
    "name": "ipython",
    "version": 3
   },
   "file_extension": ".py",
   "mimetype": "text/x-python",
   "name": "python",
   "nbconvert_exporter": "python",
   "pygments_lexer": "ipython3",
   "version": "3.7.5"
  }
 },
 "nbformat": 4,
 "nbformat_minor": 4
}
